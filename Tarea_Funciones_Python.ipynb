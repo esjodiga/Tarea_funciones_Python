{
  "nbformat": 4,
  "nbformat_minor": 0,
  "metadata": {
    "colab": {
      "name": "Tarea. Funciones Python",
      "provenance": [],
      "collapsed_sections": []
    },
    "kernelspec": {
      "name": "python3",
      "display_name": "Python 3"
    },
    "language_info": {
      "name": "python"
    }
  },
  "cells": [
    {
      "cell_type": "markdown",
      "source": [
        "### Estuardo J. Díaz García (22008995)\n",
        "---\n",
        "\n",
        "\n",
        "Tarea. Ciencia de Datos con Python\n",
        "\n",
        "# **Funciones**"
      ],
      "metadata": {
        "id": "9eSr_ncleDKv"
      }
    },
    {
      "cell_type": "markdown",
      "source": [
        "## **¿Qué es una función?**\n",
        "Una función en programación informática es el segmento de un programa que realiza una tarea específica e independiente al resto del programa.\n",
        "\n",
        "El concepto general es el mismo que en la matemática, como se ve en la figura #1 más abajo, una función toma un _imput_, lo procesa según las instrucciones que se le dan y devuelve un _output_ que es la transformación de los datos de ingreso.\n",
        "\n",
        "El proceso de una función es comparable con un motor. Al motor se le ingresa combustible (_imput_), lo quema (proceso) y genera movimiento (_output_).\n",
        "\n",
        "\n",
        "Figura #1: Esquema ilustrativo de una función. \n",
        "\n",
        "![220px-FunctionMachine.svg.png](data:image/png;base64,iVBORw0KGgoAAAANSUhEUgAAANwAAAEzCAYAAABaP21iAAAABmJLR0QA/wD/AP+gvaeTAAAem0lEQVR4nO3dd3wUdcLH8c8mmxA6SFWqIAiIVB8ryiGIClKsWAAbZ8GOeqInZwdPsevzeN6p6IkNy6moHCqKBRWkCHaKoNJ7SNtks/v88ZtlC5vNbHYyySbf9+u1r2RnfmUW5puZ+c3sDIiIiIiIiIiIiIiISC3hqeoFqEE6AEcCxwEHA0OqdnFEaraRwOtAENhVxcsiUit4gQIUOCmD18G2DgOa2Ci3xno54RCgFPjJofZS5QeKq3ohpHYYCryC2aUKAkuBbyJe3wEB4AWH+jsS2AFc7lB7TtmFtnDiol2YwDWOM28GMMWhfiZb/Shwkjac3KW0Yw7wu8t9ilQbbgfu5TjTsoEzgS+Atda0DMyoX1/gF8yuqj+iTmugjfV7e6B/xLzNwB/W7w2Bs4E3gW1AM+A8zLHmbGBJzLLUB4ZjhvV9wBvAqgSfp6lVviuwHZiVoGxF+xBJKNEuZaQ6mJVth1V+ojX9UGAF4WPBIGa4PeRAzModLOM1HROo9zEjhkFMoDsD6yLKRQ60ZAK3AhuAeZggBoFCTOjjmQDsxAT8J8xgSQHmD0O8XcpEffQpow+RctkNHJjQ3W+VnwwMArYCtwMdgQFArjW/Q0zdyGO4HEygRmG2jmBW8GesMpcBy4BngROAlcC7EeXet/qN7GOKVffJOMs9yfqcIwlfPNAMeJH45+HK6+P/4vQhYksocB8DH8S84m0thlvlX8LsCg6Omf+ONX9AzHQ7gyaXW2V+xKzwoXBcClxp/X4VJtSTY+r2s+rOjpneHygBzonTnxfIY9/AJduH1FCVeQz3MJBv9fE/mOOc5QnKnw2MBT6Kmb7VgWU5GBiNWbkB/hEx7ynMFsYfU6ekjLb+CuwGXo0zzx+nnYr0ITVUZQbuE8yKCWZ0sjyzgZlxphc5sCyfAT+XMc8X874T5g9EvGshQwMeSzAn3O1Kpg+pwdwepUykMk8XzC1nvhe4FrgAqGuV3xSnXEfMqOrGCiyD3T6kBqtOgatMibZGdTG7sQcDFwJvW9MPxYwqRgrtkjZNsv9k+pAarLYELpG/AUcBFxMOQll+x4T3CGA/zCkNp/uQGiyj/CKO6wuMcbC97BTrj7B+fhozvV2csnuA+Zgt1s1x5o8CGqTYh9RglRm4enGmeYGpDvW72fo5BDPcn4EZ0Ej22so61s+B1s/GmJHI0Lmx0DcgQkG61/p5vfXKwATwdmAaZlS1kVW+YQX7EClXb+A+zC5XEHM1SOy5uA3WvF6YFfUkzOhkEHNZ1/mET5g3AS7BnJsLYs7HDY3orxNmWD2ICV8hsAhz1YYXs7X5xJq/wmo73hblXqtMAPO1IR/mnF3niM+yCjgtos5UwlesbLf6XgG0tT5n0PqsD6XQh9RATt5iYSTmGkc7nsEE7oI48+ZhVr6DgOPjzH8q4vezMYMQGzHnxd7HrLwNgHPj1P0B+DxmWjbmypHjMddbziR8Fcr9mPBOB9bH1DvN6tuDGRB5CnPecQQm3A8AX6bYh4iIiIiIiIiIiIiIiIiIiIiIiIiIE7oDb2Gu4dyvipdFpMb7kPDV/XdV8bJILVYVX0CtCl0ifu9UZUshtV5tCZxItaDAibioKgPnxdyf/xLMrcBrikOBmzAPixSpNu4kPJDxfCX3FfkQj3g3m3VKN8ztFoKYW57beb6C1CJVuYWLfM7AOMI32ElnD2MeLALmLs26K5dUG+OIfszUUipv19KNLVzooSSh1yKcvWeMSMr+Q/RKekkl9VPZgcvCPDgy1EcA8wxykWqlC+ZhHaEVdQvhezQ6qbIDdz3Rfzgq8zhRJCV/J3plfbAS+qjMwLXEPCUo1H4e4cchi1Q7jTD3lQytsMWY0T4nVWbg/kn0H4wpDrcv4rgLiV5p33O4/coKXD/Cd04OAr8SHqUUqbYyMKN6kaEb7mD7lRE4D+bhHJHLfKZDbYtUuqMxo3uhlfcnzOifEyojcGOIDtvHDrUr4pqZRK/E1zvUrtOBqxfTph/zEBGRtNIW80CM0Iq8C2jhQLtOB+42ov8wPOlAmyJVYgrRK/M/HWjTycC1J/qPwk6c+aMgUiVyiA5IKanvrjkZuJeI/oNwbYrtiVS5M4leqT8ltesSnQrcsUQP7PyIcwM7IlVqPskNuXfDfMcuHjuBawB0TNB+BvBNzDKdVM4yiaSNPpjRv9DKvY74zw0PGQQsBo6LMy9R4LKA8zCPPG6boP0JRIdtdnkfQCTdPIX9y6YyCAdrOebYqnfM9FDg6mKCeQ/mMb9BzLO5y9II2BTRRjHQtYKfSaTaaoEZBQyt6PmYUcKy3EN0QIPAHkxAIi8uLo5TblyCdqfHlJ1e0Q8kUt1Nwv5XX7qxb5DsvHIx39COpwvgiyi7BbPFE6mRsjCjgaEVPgAckaD8VyQfuBkJ2nszpuyECn8SkTQxjOiV/vYEZa8g+cANStBeUUxZ3VpQaoXIlX5agnLNiN4FLO+1jsQhiiz7ekqfQGq9mvjXejvJfZ/uBcxuqh2/JL84ImFlnSiu1urWrZv1668FZQ1y0LNn61e2bds82k5bPXr0fm3evGVlttW6tW68Jc5Jy8Dl1KuXndGAhmXNn/n6O1+cPOjIHYFAIOGjqbKzs5d8snDZRii7LREnpWXg6uXUy/aV+soMSY8+vWjeosV7WzZvHpuonY6dDnonUTsiTkvLY7g6OTl1MoMZDRO9Row8Y26iNjweT8ltd0ybX147bn0mqR3SMnA5OTnZnqCnYaLX3fc9/Fu9evXXldVGq9atvz5+6LBAee24+bmk5kvLwGXXyckiw9OgvFfvvv0/KauNwUOHfWKnDRc/ltQCaXkMl10nKztAablbn6tvvGnRVws+Gx8MBqOGGrOzs/NuuXPqz3baEHFSegYuu04dO7t7A/90QnGbdu1//uO3dVE3lj20T79FTRs3rUuw8pZRJJ603KXM8tbJJuhpaOd10rCRS2Prjz1/wnK79avi80nNlZaBy67jzfJk0MDO65pJN63xeDzBcN06vrPHnr/Dbv2q/JxS86TlLqU3Kzs7EAzY2vrs17IFDRo2LNiTm1sfoH3HAzfbrSvitLTcwnm93joePA3tvi654tqFobrTHnjsq2TqVuXnlJonLbdwWd6sbJK4HOvaG27e9OxTTxTsf0Db3GMGDPQnU1fESWkZOG+WN9vjsb/18Xq9nDh85PouXQ7OS6aeiNPSMnCZ3qysYDCY1IDGRZdcsb1t+/bFydYTcVJaBs6b6a1DkruFh/TsBWn6eaXmSMsV0Ov1JnUMJ1JdpGXgMr2ZSR3DiVQX6Rm4TG92MBhU4CTtpGfgMjKy0UM0JA2lZeDweCC1p+mIVIm0vNJEJF0pcCIuUuBEXKTAibhIgRNxkQIn4iIFTsRFCpyIixQ4ERcpcCIuSvbSrqbAcUB2JSxLOjgTWFLVCyHVRinwNbDeboVkAtcYWAa0T3KhapLOwKtVvRBSrewCjsY8h75cyexSHk81CVtOTo6LfdV1rS9JS02A0+wWTiZw1WLN269Zc4aPsv35Unb+xZe61pekLdv3yUnmKy7nAjNDb26fej/de/RMZqFSlun10r1HT5ru18zVfn/4bjnbt211tU+pvnJzc/nz+DGRk+4FbrZTt8Lfhzv2T4NdD1xV6WFuQCQCQG7u7grX1WkBERcpcCIuUuBEXKTAibhIgRNxkQIn4iIFTsRFCpyIixQ4ERcpcCIuUuBEXKTAibhIgRNxkQIn4iIFTsRFCpyIixQ4ERcpcCIuUuBEXKTAibhIgRNxkQIn4iIFTsRFCpyIixQ4ERcpcCIuUuBEXKTAibhIgRNxkQIn4iIFTsRFCpyIixQ4ERcpcCIuUuBEXKTAibhIgRNxkQIn4iIFTsRFCpyIixQ4ERcpcLKPRx+4l77dOjBl8qSqXpQaR4GrBXbu2M78eR8QCATKLbtl8yaeeHg6O3Zs58RhI1xYutrFW9ULUN2s/+N3/H5/ueWat2hB/foNXFii1AQCAUaeOJDVK3/h2RdfLzdE991zO3l5e3jsHzMYcNwgl5ay9lDgYrzx6ou8PPM5fl29KmG5s8dewIOPP+XSUlVc7u5drF75CwDNmjVPWPbH71fwysznmDr9UU476xw3Fq/WUeBiXDXpJkaedhZH9TmYNm3bsei71VHz/X4/Y88cSZu27apoCZPTpOl+TJ3+KA0bNuKwI45KWPa2W27k8quv5/yLL3Vp6WofBS4Or7fsfxav18vA44fQpWs3F5coNRdMuKzcMn6/nzHnjteWrZJp0KQCLr9qEkNOHBY1bfOmjfz04/dxyxcU5PPpxx/Gnbd40dcUFhZETfv5px9449WX+PGH78pdFl9REZ/Pn8crLz7P3Pdns2P7tn3KFPt8vPv2mwnb2bljO42bNOH1V15kxbdLE5b98fsVbN+2NWra2l/X8J/XXmHJNwvLXebaTIFL0RMP38+JA4+gf48DmXbHrVHz5r4/mxFDj+OQTvtz9qnD2LD+DwDy8/O4a8pkhgw4jBEnHMuc2W8DsHHDesadNYpBR/bhykvOZ8gx/Xlk+rS4/Rb7fNx3z+306tKWs0adxHUTJ3DBOafRr8eB/PvZfwIwf94HXHbRefTq2o4/jx9TZjtTJk/isJ6dGT9mNFdfdiEnDjyC4YOP2XvsF/L3u29jxNDjGHxMf15+YQYAu3bu4Io/j2dA/x5MnDCOU4YM4Obrr6rwv2dNp8Cl6Iprb+SccRcSCAQIBoNR84aefAr/ev4V6tatB7B3fk5OXU4982zad+gIwJ49uSxftoRhxx9N8xYteWHW29xz/yN4PB4euPcuCgryo9otLCzg7FOH8cGcd3nxjXdZv9PHwhWrmHjNDZQUF+PzFQHQo2cvhgwdxp7c3XGXvaSkhHFjRvPVF5/x5nvz+H17IQuW/MjRAwaydPEiTh12PJs3bdxbftTpZ+3dlc7Pz2ftr2sYNvgYigoLefbF13nkyWeoV68+zz39D9auWR23z9pOx3AJ7Nq5k79cOzFqWvsOHbnyur9ETTviqGPKbKNV6/3p3KUrixd+tXdaZmYmPXv1YcToM5jz7tusWbWSxx+6j9vuvo/RZ4S3RK+9/AJLFy/it3Vr6db9kL3Tp9w0iW+XLmbB0h9p1Xp/ANq2a8+td0ylU+eDGD7yVABatGzFGWefx7Q7b2XjhvX7LNujD9zL0m8W8sWSH2jRshUAHTt1ZuZr73DGyKEsXvgVU2//K488+QwA3bofwlnnjuPlF2awedNGLjznNC6YcBmXTLxmb5tzZr/F+7PfYs3qlXTs1DnxP3AtpC1cAlnZ2fTq049effrRslVrFnw+nwPaxBmd9HgStpOZkZlw/tP/eJyJ19wQFTZgb5git5xrVq3k5RdmMPaCCXvnRzp3/EU0btI0alpGxr7/zfn5eTz52EOcfMqovWELqZOTwx1Tp+PxeHjrzVlRx5ihtl6Z+RxDh42IChtAy1atAWydZK+NtIVLoH79+oy9YMLe95NuujXuypuq4wYNiTuSWLdevX2mzXn3LQKBAAMGpnZS+qO5c8jPz+OgrgfHnd/vsMPp2asPK75dyg8rltP/8COj5nc/5FBuuPlvKS1DbaQtXBIqI2wAhxza23bZ1atWAtC4SZOU+ly7xpzYb96iZZllQruxu3fv2mde127dycrKSmkZaiMFLs0ESksByM/LS6kdn88HxA9TSFFRIQD7H9Ampb4kTIFzUOwoZWXYv01bAL5a8HlK7RxgtTN/XvzzgwCbNm2kSdP96NS5S0p9SZgC54DQRcyxJ4MBNqz/g3Vr1zjW13GDBgPwwox/xe0PYNPGDTbaGUJGRgbz533Ags/n7zN/966dLF+2hDHnjqdOTk5qCy17KXAO2P+ANmRmZvL9d8ujht8XL/qasWeMwGONYuaWcT4sGUcefSyHHXEUO3dsZ9xZo/j9t3V75+3Yvo3LLjqPF59/ptx22rXvwKjTzwLguokTWGMdG4LZUt85ZTLNm7fgupv+mvIyS5gCF2P7tq3Meunf1u/bmPnc03HPYUXKysripOEjKSkuZtSJA/nLtRMZM/pkLr3gHB7633/tHVG85rKLGHfWKADWrlnNxx/9F4Avv/iU75Yv27tL6vf7+fzTj1m6eBEAb856OWqr9fhTz9GmbTuWLfmGAf17MGLocZw5YihH9j6YVq32Z9JN5oqXoqJC3p/9Fjt37ADg5RdmRIV+6v2P0Ltvf37/bR2nnHAsd992Cw/fP5URJxzL5/Pn8dIb79GoUeO95TduWL/3qpjly5bwzddfUmodUwYCAZZ8s5BvrPON773zH9at/TXpf/+aLvEJpGjnAjNDbz5asITuPXo6v0RV7PGH7mP37n23RDdMnpJw12rrls3cdssNfPn5pzRo2JBTRp3O5VdPolGjxnzy0VxuufEaxp5/MRdfeiU+XxGPPXT/Pm2MOXc8B3U9mMWLvmbOu29HzcvJyeH6yVP2vt+2dQsPT5/GR/99j7y8PA7sfBATLruKkaeesbfMnHffZvGir6Paade+A+MvumTve19REU8/9QRvvzGLjRvWc0Cbtpxw0nAmXH5VVNgA7rl9363d6NPP4pBDe7Pql5955cXnk/53S0e5ubvp1r5F5KR7gZvt1FXgRJKUSuC0SyniIgVOxEUKnIiLFDgRFylwIi5S4ERcpMCJuEiBE3GRAifiIgVOxEUKnIiLFDgRFylwIi5S4ERcpMCJuEiBE3GRAifiIgVOxEUKnIiLFDgRFylwIi5S4ERcpMCJuEiBE3GRAifiIgVOxEUKnIiLFDgRFylwIi5S4ERcpMCJuEiBE3GRAifiIgVOxEUKnIiLFDgRFylwIi5S4ERcpMCJuEiBE3GRAifiIm9FK372yUds27LZyWWRGqB33/40atzEtf5KiotZ+PUCAqWlrvWZm5tb4boVDtztt9xY4U6l5jqgTVvmfrqQ/Zo1d6W/00ecwDdff+lKX05IZpcyr9KWQmqMDev/4OMP57rS15pVK6tL2HbbLZhM4D4Gfkl+WaS2ycvb40o/vmKfK/2UYzMwy27hZHYp9wD9gMOArCQXSmq2Q4EHq3ohgGeBF13sLwB8C2y3WyHZY7h8YH6SdaTmqy6jZx9ar2pLpwVEXKTAibhIgRNxkQIn4iIFTsRFCpyIixQ4ERcpcCIuUuBEXKTAibhIgRNxUYW/DydSltLS0mKgpLL7CQYCGUDdyu7HSQqcOK60tLQIggV2y+/csTNj2eJF3sOPPrqkfv0GQbv1AoGAFwVOartAaWkReGx9KS5/T17G4GP6ddi0cYP3wM4HFX+2cMW6jMxMe/0ESuuktKBVQIETx/lLS3yY70+W6/PP5jXctHGDF+DX1auyF361oPTIY461tXUsLQ36U1jMKqHAieP8JaVF2AxcXn5+duT7/Pw823VLA6WB5Jeuailw4ji/3+8jGLR1D5zSEn+9qPf+0kK7dQOlpZ6KLF9VUuDEcaX+kiKPx94xXGmpv2Hke3+pv8B2Xb/f3sFeNaLAieNKSkp8QZu7hSXFJYWR7/3+kgK7df1+f9rdW0eBE8eVlBQX4bEZOL+vMPq9v8Bu3VKNUopAcUlJUTAQtBWa4uKSqBHJEl9xgd26/uLitDoHBwqcVIISX7Evw5Nha+CjpLi4KOZ9od26xSUlDcsvVb0ocOI4X3GRL4jNLVxRUdQupa+4qMBu3ZJiX6OKLF9VUuDEcT6frwiPvdAU+mICV1RYYLeuz1eYX5Hlq0oKnDjOV1BYFCy1F5qiwsKoY7jCgoICu3UL84sUOJHCwkJfhifTVmgK8vKjtnD5BQUFtuvm59u+QLq6UODEcUVFBb6gx97VInmFeVGDJvm5ewpt183bo8CJ5BfkFQUzAra2Unt27Y7awu3evbPAbt2dO7drl1IkLzevqNRXais0O3buiNpKbduytcBu3c1btihwIrm5ub661LMVmm2bt0Rt4TZt2lhgt+76deu0SymSm7vL17y5vSfmbt26KeoY7vff1xbarfvTT98pcFIr5US+CQQCLTwej91bJUSV8/v9wSTqxt4Eq5PNelVGd+0SJ1wQ876LS/02jnn/N5f6FakyB2C+ThOMeCWzpRkeU3dAkv0HY15DkqzvKm3hJFVTgQYR728F1sSU8QB/B9pVsI+OwHSrnViDY94/hA6VpIY6HPNg+dDWZSVQ1nfUpmC2hI8A3SOmJ9rC9QH+Dyiw6pdlVkwbVyb5OUSqPQ/wJdEr+ugE5Q8kHM4AsAITpsdj2ngQeBr4JWJawKqfqO3CiPLbgGYV+1gi1dM4ooMy10ad+ex7zGXnNd9G23fF1HnM/kcRqd4aAH8QXrlLgJ426k2gYoGbUInLJFLt3U10IB61Wa8R5ngsmbAVWPXsGBtT9wOb9USqrVSPl14iucC9lETbyR5XilR7sSOCVyRZ/2SSC9zJSbb/P0SPnK6i7JFTkWptENFhWEHy57y8wEbshW1jBdoHmBHTzuQKtCFSpTKBZThzVcd07AVuegXbb0301S+51jSRtHE50WF4M4W2emMvcL1T6GNyTFszUmhLxFVNgC2EV94ioHOKbS4lcdiWpth+HWB1RHsB4LAU2xRxxSNEh2GaA21eR+LAXedAH6Nj2vyS+NdjilQb3YBiogcynLjjcSvMyel4YSux5jvhw5i2z3OoXZFKMYfoFfZ8B9t+l/iBe9fBPnoSHew/gPoOti/imNgr+Rfh7Fe6xhA/cGMc7APgiZj273S4fZGUZbHvFftHOtxHDpBHdBjyiLllgwOaYa6ICfVRiPmOnUi1MYnoIMyspH5id1nfrqR+rmbfrbVItRF5kjsPaFNJ/cSOVtr5ZkBFeDFXxkT2lXZPUJWa69+4c2lUPcKjoD7MFS2V5U+Ev63wZSX2I5K0OpgLk89woa+pmBDc7UJfvYCLcebUhkha6gyUkvrVK9VeZW6+RezaCdTFfPVHRFygAQwRERERERERERERERERERERidYJuAl40oG2vJhbKFyEuSzsBAfaFKkxphC+3d46B9rrjLl9wm6rzcsdaFOkRulE4sD1A0Yk2ea9pEng9CxkKUsz4DRMQOoAv2Ieuvhziu3+mmDegZgvhmYDHYDfbLa5K8Vlco0CJ/FMBB7AhGMDcCjQErMVuY/UvgEeTDCvHSZsu4HtKfQhkjZGAH6in6vmxdx7xA+c40AfZe1SZgGXkfwzBULPEaj2u5Qisb4A3i9jXjuH+nBq0CQkbQKnXUqJ1QX4HXMP/tjdv9/LqXsAcAzQFlhJ+M7KyegEHA28kKBMD+BwzKOIv7DZbmerTmvMg0I+SXK5RCpF6JG9T2Nue2BHS0xANgFLCD+b7Y0yysfbwt0ELMTccHZ5gn7esMpsxTzFJ2j1W9YWrgswG1gPfEv4cckPlP+xRCrfsYTvxb8O8yyBRHtCh2Ae8PEq4YC2xGwNg5itUax4gWsK3GDNixe4lsCPmPB0tKbVAf5M+NZ3sYEbhBmAeSjiM3TB3GczgJ4xINXECGAz4ftSrgTOJv6jnpZZZfvGTH/aqjssTp2yjuFCI6HxAjcL+B4zihlrGvsGrh5my7eGfW9i+5FV/pA4bVUqJx/MIDXHO5jHVN2FOcd1EPASZneucUzZkcD+7PsARZ/1M5nnsfnKmN4Xc3/MxzA3jY21O860AsyzEDphdicjFVo/XV//FTgpy07gb5gT0FMwK+lozB2ZI0P0G2b3DGt6V8ypAyefNnqu9TPZ5wGsjfg9E3Pd5fmYZawSCpyUJxdzR+S+mIGKEex7kfD+wIOY8M0CBhB/S1RRB1s/t1agblfgKcxx5j8x5/icXLakKHBi18+EHwPcP2L6MZhjriOBIZgV+grKHmmsiNBxW8sk652K2dVthfmDcRTmqUBrHVuyJClwEmtsgnk/WT9Dx0x1MbuYmcAppH6dZVnWWj//lESdVsCzmNHSM9n3OK5KKHASqT4wA3PFfjyDMaN7/7Xe98VccLwI2BFTtpmDyzXX+nkD0CBmXl3MljXWCZgBnvlE70JmAPs5uGxJUeAkkheztXoPOC5m3ijgDuAZYLU1LTRi2R0zDA/mKpNZwMnW+/pWm8mMVsZ6G7P1bGX9HgpMd8wVI02t96GQewk/HacP4fW8J/CB9RNMWPV8DakymZhjr9D5t2XA65grNILW7/UiyjfFDGQEMbtsyzFD+7diRjZDV4F8bpXtgDm+C2KuErmE8DmyzpjTEEHMQM14wkECc9y4i/Bz5H7CnKC/BXOuL4jZyi7EnF/rSvhKlNVW+XzMt8ND5wjXYbbWrm14lG6JFMSM5C3B7Ia1xmyhfgT+gjnBXBJRvghzErkt5kr/hZgV+jVM0PphdlEnYq7uOBez5fkQs2Wqa7X/A2aAI8ua95lVroTwCfKNwJtAC0xAfgKuwhxDbsAM3ryFOfn9G+brPQusZcvEbNnGW/3uwgT8ceB6wqc1REREREREREREREREnPL/xZUyiK4zA2MAAAAASUVORK5CYII=)\n",
        "\n",
        "Fuente: Galería de Wikipedia"
      ],
      "metadata": {
        "id": "9p0oBl88ez0I"
      }
    },
    {
      "cell_type": "markdown",
      "source": [
        "## **¿Qué es una función en Python?**\n",
        "Las funciones en Python (como en muchos otros lenguajes) constan de un bloque de código que cumplen con el mismo concepto de funciones expuesto anteriormente.\n",
        "Estos bloques de código toman datos, valores u objetos, los modifican según instrucciones y devuelven el resultado.\n",
        "Como en cualquier lenguaje de programación, una función en Python consta de tres componentes principales:\n",
        "-  Los valores de entrada que recibe la función.\n",
        "-  El bloque de código con las instrucciones.\n",
        "-  Y el resultado que entrega la función.\n",
        "\n",
        "Existen algunas funciones que Python ya tiene integradas, como **print(), type(), len()**, etc.\n",
        "Pero el usuario puede definir más funciones que cumplan con las necesidades que requiere.\n"
      ],
      "metadata": {
        "id": "-VwyNExzhS0r"
      }
    },
    {
      "cell_type": "markdown",
      "source": [
        "### ¿Cómo definimos una función en Python?\n",
        "Para crear una función a medida para el usuario se utiliza la sintaxis siguiente:\n",
        "\n",
        "\n",
        "1. La sentencia **def** al inicio, la cual define que el código que sigue definirá una función nueva.\n",
        "2. Seguido un nombre para la función, a discreción del usuario.\n",
        "3. Paréntesis \"()\" y dentro de ellos los parámetros de entrada para la función\n",
        "4. Dos puntos \":\" para indicar el inicio de la función en la línea siguiente.\n",
        "5. El bloque de código en que consistirá la función.\n",
        "6. Una sentencia de salida o retorno, aunque es opcional.\n",
        "\n"
      ],
      "metadata": {
        "id": "VDEMP0ajUcBY"
      }
    },
    {
      "cell_type": "code",
      "source": [
        "#Ejemplo 1\n",
        "def producto (x,y):\n",
        "  print(x*y)\n",
        "  print(\"Done\")\n",
        "print(\"La función multiplicará ambos números que se ingresen:\")\n",
        "\n",
        "producto(3,5) #3 * 5\n",
        "\n",
        "producto(150,1000) #150 * 1000\n"
      ],
      "metadata": {
        "colab": {
          "base_uri": "https://localhost:8080/"
        },
        "id": "-3htHEWWk8jh",
        "outputId": "905d7968-3719-46aa-927e-3be032ddad71"
      },
      "execution_count": null,
      "outputs": [
        {
          "output_type": "stream",
          "name": "stdout",
          "text": [
            "La función multiplicará ambos números que se ingresen:\n",
            "15\n",
            "Done\n",
            "150000\n",
            "Done\n"
          ]
        }
      ]
    },
    {
      "cell_type": "code",
      "source": [
        "# Ejemplo 2, función que identifica si una persona es mayor o menor de edad\n",
        "def mayor_de_edad (x):\n",
        "  if x >= 18:\n",
        "    print(\"La persona es mayor de edad\")\n",
        "  else:\n",
        "    print(\"La persona es menor de edad\")\n",
        "\n",
        "#Llamamos y utilizamos la función\n",
        "mayor_de_edad(17)"
      ],
      "metadata": {
        "id": "9v-YDRobeDjX",
        "colab": {
          "base_uri": "https://localhost:8080/"
        },
        "outputId": "903bd178-6240-4560-a3dc-a8811dc893d8"
      },
      "execution_count": null,
      "outputs": [
        {
          "output_type": "stream",
          "name": "stdout",
          "text": [
            "La persona es menor de edad\n"
          ]
        }
      ]
    },
    {
      "cell_type": "markdown",
      "source": [
        "### Parámetros posicionales y nombrados dentro de una función:\n",
        "Los **parámetros o argumentos posicionales** son aquellos que son asignados a ciertas variables dentro de una función dependiendo de su posición.\n",
        "\n",
        "Por ejemplo: en la función **producto** que se definió anteriormente, en donde los argumentos a operar eran *(x,y)* si llamamos a la función y colocamos dos números cualesquiera dentro de los paréntesis, el primer número se asigna automáticamente al valor de *x* y el segundo automáticamente al valor de *y*.\n",
        "\n",
        "Si queremos definir un valor específico a una variable sin que se vea afectado por su posición debemos nombrarlo explicitamente, a esto se le conoce como **parámetros nombrados**."
      ],
      "metadata": {
        "id": "fPRDaZyGXhuU"
      }
    },
    {
      "cell_type": "code",
      "source": [
        "#Ejemplo #1\n",
        "def mayor_o_menor (x,y):\n",
        "  if x > y:\n",
        "    return True\n",
        "  else:\n",
        "    return False\n",
        "\n",
        "mayor_o_menor(3,4) \n",
        "#En este caso, el 3 será automáticamente tomado como x por su posición \n",
        "#y el 4 será automáticamente asignado a y. \n",
        "#Por tanto, el resultado sería False\n"
      ],
      "metadata": {
        "colab": {
          "base_uri": "https://localhost:8080/"
        },
        "id": "0vbWZ4gFXhY_",
        "outputId": "7ad6839e-44a3-485a-fae5-7eb6f0ae4e8c"
      },
      "execution_count": null,
      "outputs": [
        {
          "output_type": "execute_result",
          "data": {
            "text/plain": [
              "False"
            ]
          },
          "metadata": {},
          "execution_count": 21
        }
      ]
    },
    {
      "cell_type": "code",
      "source": [
        "#Si queremos definir qué valor se asigna a x y cuál a y, debemos definirlo explícitamente.\n",
        "#Los argumentos pasan de ser posicionales a nombrados.\n",
        "mayor_o_menor(y=3,x=4)"
      ],
      "metadata": {
        "colab": {
          "base_uri": "https://localhost:8080/"
        },
        "id": "Kfc0T7npdcnX",
        "outputId": "6a1a3869-d29a-4915-eb59-7d2a1ad21b8a"
      },
      "execution_count": null,
      "outputs": [
        {
          "output_type": "execute_result",
          "data": {
            "text/plain": [
              "False"
            ]
          },
          "metadata": {},
          "execution_count": 27
        }
      ]
    },
    {
      "cell_type": "code",
      "source": [
        "#Ejemplo #2\n",
        "def resta (x,y):\n",
        "  return(x-y)\n",
        "\n",
        "resta (100,1)"
      ],
      "metadata": {
        "colab": {
          "base_uri": "https://localhost:8080/"
        },
        "id": "wAzNlHHZhnq9",
        "outputId": "6746c528-2220-4950-e2b8-862854b89b35"
      },
      "execution_count": null,
      "outputs": [
        {
          "output_type": "execute_result",
          "data": {
            "text/plain": [
              "99"
            ]
          },
          "metadata": {},
          "execution_count": 32
        }
      ]
    },
    {
      "cell_type": "code",
      "source": [
        "resta (1,100) \n",
        "#Al comparar con el resultado anterior vemos que cambian \n",
        "#dependiendo de la posición de los parámetros que se introducen a la función\n"
      ],
      "metadata": {
        "colab": {
          "base_uri": "https://localhost:8080/"
        },
        "id": "SFkzeERViJjh",
        "outputId": "ce6e02ff-f6d8-40bd-b1e9-1aaea597a4bb"
      },
      "execution_count": null,
      "outputs": [
        {
          "output_type": "execute_result",
          "data": {
            "text/plain": [
              "-99"
            ]
          },
          "metadata": {},
          "execution_count": 37
        }
      ]
    },
    {
      "cell_type": "code",
      "source": [
        "resta(x=100,y=1) #Los podemos nombrar para que sean tomados en una posición específica"
      ],
      "metadata": {
        "colab": {
          "base_uri": "https://localhost:8080/"
        },
        "id": "8NFXawKxif36",
        "outputId": "30005bdb-ed4c-416f-bfd5-659fb12f02de"
      },
      "execution_count": null,
      "outputs": [
        {
          "output_type": "execute_result",
          "data": {
            "text/plain": [
              "99"
            ]
          },
          "metadata": {},
          "execution_count": 38
        }
      ]
    },
    {
      "cell_type": "markdown",
      "source": [
        "## Funciones que retornan múltiples valores\n",
        "Una función no necesariamente se limita a retornar un solo valor, dependiendo de lo que sea requerido puede devolver múltiples valores. Estos valores se muestran \"empaquetados\" en una tupla."
      ],
      "metadata": {
        "id": "tQKuRJg3gPDM"
      }
    },
    {
      "cell_type": "code",
      "source": [
        "def valores_multiples(a,b,c,d,e,f):\n",
        "    q = a*b\n",
        "    w = b/c\n",
        "    e = c*d\n",
        "    r = d-e\n",
        "    t = e+f\n",
        "    return q,w,e,r,t\n",
        "\n",
        "valores_multiples(3,8,4,5,25,6)\n"
      ],
      "metadata": {
        "colab": {
          "base_uri": "https://localhost:8080/"
        },
        "id": "GULpoW9whlnr",
        "outputId": "83562c66-8941-4cba-bee9-d17798c7ed6c"
      },
      "execution_count": null,
      "outputs": [
        {
          "output_type": "execute_result",
          "data": {
            "text/plain": [
              "(24, 2.0, 20, -15, 26)"
            ]
          },
          "metadata": {},
          "execution_count": 45
        }
      ]
    },
    {
      "cell_type": "code",
      "source": [
        "#Al verificar el tipo de dato vemos que es una tupla:\n",
        "type(valores_multiples(3,85,4,7,7,6))"
      ],
      "metadata": {
        "colab": {
          "base_uri": "https://localhost:8080/"
        },
        "id": "mdrYovMLkOwE",
        "outputId": "8d0ce5b5-99c9-4957-9e0b-ff0adaaff07a"
      },
      "execution_count": null,
      "outputs": [
        {
          "output_type": "execute_result",
          "data": {
            "text/plain": [
              "tuple"
            ]
          },
          "metadata": {},
          "execution_count": 46
        }
      ]
    },
    {
      "cell_type": "markdown",
      "source": [
        "## Funciones como objetos y funciones como parámetros de otras funciones\n",
        "Python es un lenguaje de programación orientado a objetos. Si creamos una variable y le asignamos un valor, es un objeto, una función en sí misma es un **objeto.**\n",
        "Para entender un poco más esto nos conviene primero definir qué es **clase** en Python y qué es un **objeto**:\n",
        "\n",
        "*   **Clase:** \"Una clase es una entidad que define una serie de elementos que determinan un estado (datos) y un comportamiento (operaciones sobre los datos que modifican su estado).\" (J2Logo). En otras palabras, una clase es una nueva categoría que engloba o comprende a cierto tipo de objetos.\n",
        "*   **Objeto:** Un objeto es una unidad singular o concreta dentro de una clase.\n",
        "\n",
        "Por ejemplo, si se pide al usuario que imagine una casa, podrá  comenzar a imaginar las puertas, el techo, el tipo de piso, las ventanas, el color de las paredes, etc. Pues toda esta descripción sería una clase y cada casa que podrías haber imaginado serían objetos de dicha clase.\n",
        "\n",
        "Una **función** también puede ser llamada o utilizada dentro de otra, es decir, sería una función *anidada*."
      ],
      "metadata": {
        "id": "Ku4-m0rzlb7j"
      }
    },
    {
      "cell_type": "code",
      "source": [
        "#definimos una función que calcula el pago de IVA para un contribuyente normal (régimen opcional simplificado)\n",
        "#En este régimen normalmente se paga el 12% de IVA sobre los ingresos y el 5% de Impuesto sobre la Renta (ISR)\n",
        "\n",
        "def iva_regimen_general(ingreso):\n",
        "  return((ingreso/1.12)*0.12)"
      ],
      "metadata": {
        "id": "R9OF_Zx84I72"
      },
      "execution_count": null,
      "outputs": []
    },
    {
      "cell_type": "code",
      "source": [
        "#llamamos a la función para calcular el IVA a pagar por un ingreso de Q10,000.00\n",
        "iva_regimen_general(10000)"
      ],
      "metadata": {
        "colab": {
          "base_uri": "https://localhost:8080/"
        },
        "id": "gAFERd7j5BHm",
        "outputId": "d4db7f17-4798-4e33-d2f3-9e81c6ba1e76"
      },
      "execution_count": null,
      "outputs": [
        {
          "output_type": "execute_result",
          "data": {
            "text/plain": [
              "1071.4285714285713"
            ]
          },
          "metadata": {},
          "execution_count": 4
        }
      ]
    },
    {
      "cell_type": "code",
      "source": [
        "#ahora creamos una nueva función para saber el ISR\n",
        "def isr_regimen_general(ingreso):\n",
        "  return(((iva_regimen_general(ingreso))/0.12)*0.05)"
      ],
      "metadata": {
        "id": "pT2jNX4w6DpR"
      },
      "execution_count": null,
      "outputs": []
    },
    {
      "cell_type": "code",
      "source": [
        "#ahora podemos usar ambas funciones para ver cuánto nos quitará la SAT de ISR e IVA\n",
        "iva_regimen_general(10000), isr_regimen_general(10000)"
      ],
      "metadata": {
        "colab": {
          "base_uri": "https://localhost:8080/"
        },
        "id": "yRLwwfDk8LDE",
        "outputId": "671b10dd-f9fb-4363-e80e-5340fda064c7"
      },
      "execution_count": null,
      "outputs": [
        {
          "output_type": "execute_result",
          "data": {
            "text/plain": [
              "(1071.4285714285713, 446.4285714285714)"
            ]
          },
          "metadata": {},
          "execution_count": 9
        }
      ]
    },
    {
      "cell_type": "markdown",
      "source": [
        "## Funciones anónimas o lambda\n",
        "Las expresiones *lambda* se utilizan cuando necesitamos hacer algo simple y estamos más interesados en hacer el trabajo ágilmente en lugar de generar formalmente una función.\n",
        "\n",
        "Las funciones lambda en Python son una forma corta de crear funciones pequeñas a las cuales no es necesario nombrarlas individualmente.\n"
      ],
      "metadata": {
        "id": "irTrrXU88zOa"
      }
    },
    {
      "cell_type": "code",
      "source": [
        "#Ejemplo #1, primero una función formal que devuelve el cubo de un número x:\n",
        "def cubo (x):\n",
        "  return(x**3)"
      ],
      "metadata": {
        "id": "XWuZxSXqHNbf"
      },
      "execution_count": null,
      "outputs": []
    },
    {
      "cell_type": "code",
      "source": [
        "cubo(10)"
      ],
      "metadata": {
        "colab": {
          "base_uri": "https://localhost:8080/"
        },
        "id": "pEndxKZWHynF",
        "outputId": "7041610b-00dc-4476-94e0-00c13336bf4c"
      },
      "execution_count": null,
      "outputs": [
        {
          "output_type": "execute_result",
          "data": {
            "text/plain": [
              "1000"
            ]
          },
          "metadata": {},
          "execution_count": 11
        }
      ]
    },
    {
      "cell_type": "code",
      "source": [
        "#La función anterior la podemos simplificar usando expresiones lambda y llegamos al mismo resultado\n",
        "lambda_cubo = lambda x: x**3\n",
        "lambda_cubo(10)"
      ],
      "metadata": {
        "colab": {
          "base_uri": "https://localhost:8080/"
        },
        "id": "-qCiGGXWH2Lb",
        "outputId": "b9efb411-31fd-47a3-fb72-7e2b752e4c42"
      },
      "execution_count": null,
      "outputs": [
        {
          "output_type": "execute_result",
          "data": {
            "text/plain": [
              "1000"
            ]
          },
          "metadata": {},
          "execution_count": 13
        }
      ]
    },
    {
      "cell_type": "code",
      "source": [
        "#Ejemplo #2\n",
        "lambda_mayor_edad = lambda x: \"Es mayor de edad\" if x>=18 else \"Es menor de edad\"\n",
        "\n",
        "lambda_mayor_edad(19)\n",
        "#Con esto nos ahorramos toda la definición formal de una función usando la sentencia def"
      ],
      "metadata": {
        "colab": {
          "base_uri": "https://localhost:8080/",
          "height": 35
        },
        "id": "KpC7VwuHIADr",
        "outputId": "8e373388-5e84-4047-a062-a88888de75a2"
      },
      "execution_count": null,
      "outputs": [
        {
          "output_type": "execute_result",
          "data": {
            "text/plain": [
              "'Es mayor de edad'"
            ],
            "application/vnd.google.colaboratory.intrinsic+json": {
              "type": "string"
            }
          },
          "metadata": {},
          "execution_count": 17
        }
      ]
    },
    {
      "cell_type": "code",
      "source": [
        "lambda_mayor_edad(17)"
      ],
      "metadata": {
        "colab": {
          "base_uri": "https://localhost:8080/",
          "height": 35
        },
        "id": "2wFmOq3tIed-",
        "outputId": "bed9de96-c1fa-4e3e-9eea-24a0c773b2af"
      },
      "execution_count": null,
      "outputs": [
        {
          "output_type": "execute_result",
          "data": {
            "text/plain": [
              "'Es menor de edad'"
            ],
            "application/vnd.google.colaboratory.intrinsic+json": {
              "type": "string"
            }
          },
          "metadata": {},
          "execution_count": 16
        }
      ]
    }
  ]
}